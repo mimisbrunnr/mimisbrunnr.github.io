{
 "cells": [
  {
   "cell_type": "markdown",
   "metadata": {},
   "source": [
    "## Fourierrekker med SymPy"
   ]
  },
  {
   "cell_type": "markdown",
   "metadata": {},
   "source": [
    "### Kort fortalt\n",
    "\n",
    "Finn periode $T$ og halvperiode bredde, $\\displaystyle L = \\frac T 2$ , av funksjonens definisjonsmengde.\n",
    "\n",
    "Finn funksjonens symmetriegenskaper, det kan være   \n",
    "\n",
    "(1) Like funksjon, symmetri om y-aksen, $f(x) = f(-x)$ , <i>a</i><sub>0</sub> og <i>a</i><sub>n</sub>  skal beregnes.\n",
    "      $$a_0 = \\displaystyle \\frac 2 L \\int_{0}^{L} f(x) dx$$   \n",
    "      $$a_n = \\displaystyle \\frac 2 L \\int_{0}^{L} f(x) \\cdot \\cos(\\frac{n \\pi} L x) dx$$   \n",
    "(2) Odde funksjon, symmetri om origo, $f(x) = - f(-x)$ , <i>b</i><sub>n</sub> skal beregnes.   \n",
    "      $$b_n = \\displaystyle \\frac 2 L \\int_{0}^{L} f(x) \\cdot \\sin(\\frac{n \\pi} L x) dx$$   \n",
    "(3) Ingen symmetri,\t\t\t\t\t\t<i>a</i><sub>0</sub> , <i>a</i><sub>n</sub> og <i>b</i><sub>n</sub> skal beregnes.   \n",
    "      $$a_0 = \\displaystyle \\frac 1 L \\int_{-L}^{L} f(x) dx$$   \n",
    "      $$a_n = \\displaystyle \\frac 1 L \\int_{-L}^{L} f(x) \\cdot \\cos(\\frac{n \\pi} L x) dx$$   \n",
    "      $$b_n = \\displaystyle \\frac 1 L \\int_{-L}^{L} f(x) \\cdot \\sin(\\frac{n \\pi} L x) dx$$   \n",
    "      \n",
    "Sett inn for n = 1, 2, 3, 4, ... i uttrykkene for  <i>a</i><sub>0</sub>, <i>a</i><sub>n</sub> og <i>b</i><sub>n</sub> som ble funnet i (1), (2) eller (3) og finn deretter et generelt uttrykk med n som variabel for leddene."
   ]
  },
  {
   "cell_type": "markdown",
   "metadata": {},
   "source": [
    "### Eksempel\n",
    "\n",
    "La oss finne Fourierrekka for 'sagtannfunksjonen'  ![Sagtann](https://dl.dropboxusercontent.com/u/2113110/resources/sagtann3.png) $$f(t) = \\frac t 2 - 1\\;\\;,\\;\\; -4 < t \\le 4\\;\\;,\\;\\;f(t + 8) = f(t)$$\n",
    "\n",
    "Her er L=4 og vi har ingen symmetri, altså full beregning."
   ]
  },
  {
   "cell_type": "code",
   "execution_count": 2,
   "metadata": {
    "collapsed": false
   },
   "outputs": [],
   "source": [
    "from sympy import *\n",
    "t = symbols('t')\n",
    "%matplotlib inline"
   ]
  },
  {
   "cell_type": "code",
   "execution_count": 3,
   "metadata": {
    "collapsed": false
   },
   "outputs": [],
   "source": [
    "n = symbols('n', integer=True, positive=True)\n",
    "f = t/2 - 1\n",
    "L = S('4')"
   ]
  },
  {
   "cell_type": "code",
   "execution_count": 4,
   "metadata": {
    "collapsed": false
   },
   "outputs": [
    {
     "data": {
      "text/plain": [
       "-2"
      ]
     },
     "execution_count": 4,
     "metadata": {},
     "output_type": "execute_result"
    }
   ],
   "source": [
    "a0 = 1/L*integrate(f, [t, -L, L])\n",
    "a0"
   ]
  },
  {
   "cell_type": "code",
   "execution_count": 5,
   "metadata": {
    "collapsed": false
   },
   "outputs": [
    {
     "data": {
      "text/plain": [
       "0"
      ]
     },
     "execution_count": 5,
     "metadata": {},
     "output_type": "execute_result"
    }
   ],
   "source": [
    "an = 1/L*integrate(f*cos(n*pi/L*t), [t, -L, L])\n",
    "an"
   ]
  },
  {
   "cell_type": "markdown",
   "metadata": {},
   "source": [
    "Kommentar: Fourierrekka består altså av bare middelverdi og sinusledd. Dette kunne vi ha sett ved at grafen viser en odde funksjon hvis vi ser bort fra middelverdien på -1"
   ]
  },
  {
   "cell_type": "code",
   "execution_count": 6,
   "metadata": {
    "collapsed": false
   },
   "outputs": [
    {
     "data": {
      "text/plain": [
       "-4*(-1)**n/(pi*n)"
      ]
     },
     "execution_count": 6,
     "metadata": {},
     "output_type": "execute_result"
    }
   ],
   "source": [
    "bn = 1/L*integrate(f*sin(n*pi/L*t), [t, -L, L])\n",
    "bn"
   ]
  },
  {
   "cell_type": "markdown",
   "metadata": {},
   "source": [
    "Kommentar: Fordi n ble forutsatt å være heltall blir resultatet forenklet. Prøv også med n som vanlig symbolsk variabel, n = symbols('n')"
   ]
  },
  {
   "cell_type": "markdown",
   "metadata": {},
   "source": [
    "SymPy har laget et enkelt uttrykk for bn, la oss vise det med LaTeX:"
   ]
  },
  {
   "cell_type": "code",
   "execution_count": 15,
   "metadata": {
    "collapsed": false
   },
   "outputs": [
    {
     "data": {
      "text/plain": [
       "'- \\\\frac{4 \\\\left(-1\\\\right)^{n}}{\\\\pi n}'"
      ]
     },
     "execution_count": 15,
     "metadata": {},
     "output_type": "execute_result"
    }
   ],
   "source": [
    "bnx = latex(bn)\n",
    "bnx"
   ]
  },
  {
   "cell_type": "markdown",
   "metadata": {},
   "source": [
    "Setter vi dette inn i markdown blir det $$b_n = -\\frac{4\\, {\\left(- 1\\right)}^n}{n\\, \\pi}$$"
   ]
  },
  {
   "cell_type": "markdown",
   "metadata": {},
   "source": [
    "Vi har nå det vi trenger for å sette opp fourierrekka, $$F = \\frac {a_0} {2} + \\sum_{n=1}^{\\infty} a_n \\cdot \\cos(\\frac{n \\pi t}L) + \\sum_{n=1}^{\\infty} b_n \\cdot \\sin(\\frac{n \\pi t}L)$$"
   ]
  },
  {
   "cell_type": "markdown",
   "metadata": {},
   "source": [
    "$$F = -1 + \\frac 4 {\\pi} \\sum_{n=1}^{\\infty}(-1)^{n-1}\\frac 1 n \\cdot \\sin(\\frac{n \\pi}L t)$$"
   ]
  },
  {
   "cell_type": "markdown",
   "metadata": {},
   "source": [
    "Vi kan sjekke om dette ser ut til å være riktig uttrykk for den gitte sagtannfunksjonen ved å plotte grafen til for eksempel de 7 første leddene i rekka. Lager en symbolsk summering for n=1..7,"
   ]
  },
  {
   "cell_type": "code",
   "execution_count": 8,
   "metadata": {
    "collapsed": false
   },
   "outputs": [
    {
     "data": {
      "image/png": "[encoded data removed]",
      "text/plain": [
       "<matplotlib.figure.Figure at 0x5019f60>"
      ]
     },
     "metadata": {},
     "output_type": "display_data"
    },
    {
     "data": {
      "text/plain": [
       "<sympy.plotting.plot.Plot at 0x5019eb8>"
      ]
     },
     "execution_count": 8,
     "metadata": {},
     "output_type": "execute_result"
    }
   ],
   "source": [
    "F7 = a0/2 + summation(an*cos(n*pi/L*t) + bn*sin(n*pi/L*t), [n, 1, 7])\n",
    "plot(F7)"
   ]
  }
 ],
 "metadata": {
  "kernelspec": {
   "display_name": "Python 3",
   "language": "python",
   "name": "python3"
  },
  "language_info": {
   "codemirror_mode": {
    "name": "ipython",
    "version": 3
   },
   "file_extension": ".py",
   "mimetype": "text/x-python",
   "name": "python",
   "nbconvert_exporter": "python",
   "pygments_lexer": "ipython3",
   "version": "3.5.1"
  }
 },
 "nbformat": 4,
 "nbformat_minor": 0
}
