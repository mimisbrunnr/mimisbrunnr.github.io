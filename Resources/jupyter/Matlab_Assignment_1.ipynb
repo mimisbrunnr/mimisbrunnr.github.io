{
 "cells": [
  {
   "cell_type": "markdown",
   "metadata": {},
   "source": [
    "<b>Homework</b>   \n",
    "1) Matlab can be used as a calculator. Show me how to calculate\n",
    "\n",
    "a) $\\displaystyle{\\frac{\\frac{1.2}{3.4}}{5.6}=}$\n",
    "\n",
    "b) $\\displaystyle{e^{\\pi \\cdot i}=}$"
   ]
  },
  {
   "cell_type": "code",
   "execution_count": null,
   "metadata": {
    "collapsed": false
   },
   "outputs": [],
   "source": []
  },
  {
   "cell_type": "markdown",
   "metadata": {},
   "source": [
    "2) Show me how to solve the equation\n",
    "\n",
    "$\\displaystyle{\\frac 1 x = \\frac 2 {x-3}}$"
   ]
  },
  {
   "cell_type": "code",
   "execution_count": null,
   "metadata": {
    "collapsed": false
   },
   "outputs": [],
   "source": []
  },
  {
   "cell_type": "markdown",
   "metadata": {},
   "source": [
    "3) Take this Numbas test: <a href=\"https://dl.dropboxusercontent.com/u/2113110/numbas/ma214/index.html\" target=\"_blank\">Fourier series</a>"
   ]
  }
 ],
 "metadata": {
  "kernelspec": {
   "display_name": "Matlab",
   "language": "matlab",
   "name": "matlab"
  },
  "language_info": {
   "codemirror_mode": "octave",
   "file_extension": ".m",
   "help_links": [
    {
     "text": "MetaKernel Magics",
     "url": "https://github.com/calysto/metakernel/blob/master/metakernel/magics/README.md"
    }
   ],
   "mimetype": "text/x-matlab",
   "name": "matlab",
   "version": "0.8.0"
  }
 },
 "nbformat": 4,
 "nbformat_minor": 0
}
